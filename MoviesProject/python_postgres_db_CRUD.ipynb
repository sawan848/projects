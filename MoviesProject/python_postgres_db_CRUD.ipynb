{
 "cells": [
  {
   "cell_type": "code",
   "execution_count": 4,
   "metadata": {},
   "outputs": [
    {
     "name": "stdout",
     "output_type": "stream",
     "text": [
      "postgres server information\n",
      "{'user': 'postgres', 'dbname': 'movies', 'host': '127.0.0.1', 'port': '4444', 'tty': '', 'options': '', 'sslmode': 'prefer', 'sslcompression': '0', 'krbsrvname': 'postgres', 'target_session_attrs': 'any'} \n",
      "\n",
      "you are connected to- ('PostgreSQL 13.1, compiled by Visual C++ build 1914, 64-bit',) \n",
      "\n",
      "PosgreSql connection closed\n"
     ]
    }
   ],
   "source": [
    "import psycopg2\n",
    "from psycopg2 import Error\n",
    "try:\n",
    "    connection=psycopg2.connect(user=\"postgres\",password=\"hope\",host=\"127.0.0.1\",port=\"4444\",database=\"movies\")\n",
    "    cursor=connection.cursor()\n",
    "    print(\"postgres server information\")\n",
    "    print(connection.get_dsn_parameters(),\"\\n\")\n",
    "    cursor.execute(\"SELECT version();\")\n",
    "    record=cursor.fetchone()\n",
    "    print(\"you are connected to-\",record,\"\\n\")\n",
    "except (Exception,Error) as error:\n",
    "    print(\"Error while connection to postrgreSQL\",error)\n",
    "finally:\n",
    "    if(connection):\n",
    "        cursor.close()\n",
    "        connection.close()\n",
    "        print(\"PosgreSql connection closed\")"
   ]
  },
  {
   "cell_type": "code",
   "execution_count": 6,
   "metadata": {},
   "outputs": [
    {
     "name": "stdout",
     "output_type": "stream",
     "text": [
      "Result: \n",
      " [(2, 'Godzilla vs KingKong', 2021), (3, 'Mortal Kombat', 2021), (4, 'The Matrix 4', 2021), (5, 'The Croods', 2013), (6, 'The Wolverine', 2013), (7, 'The Wolverine', 2013), (8, 'The Wolverine', 2013), (9, 'The Wolverine', 2013)]\n",
      "   0                     1     2\n",
      "0  2  Godzilla vs KingKong  2021\n",
      "1  3         Mortal Kombat  2021\n",
      "2  4          The Matrix 4  2021\n",
      "3  5            The Croods  2013\n",
      "4  6         The Wolverine  2013\n",
      "5  7         The Wolverine  2013\n",
      "6  8         The Wolverine  2013\n",
      "7  9         The Wolverine  2013\n",
      "PosgreSql connection closed\n"
     ]
    }
   ],
   "source": [
    "import psycopg2\n",
    "import pandas as pd\n",
    "from psycopg2 import Error\n",
    "try:\n",
    "    connection=psycopg2.connect(user=\"postgres\",password=\"hope\",host=\"127.0.0.1\",port=\"4444\",database=\"movies\")\n",
    "    cursor=connection.cursor()\n",
    "\n",
    "    cursor.execute(\"select * from hollywood\")\n",
    "    value=cursor.fetchall()\n",
    "    df=pd.DataFrame(value)\n",
    "    print(\"Result: \\n\",value)\n",
    "\n",
    "except (Exception,Error) as error:\n",
    "    print(\"Error while connection to postrgreSQL\",error)\n",
    "finally:\n",
    "    if(connection):\n",
    "        cursor.close()\n",
    "        connection.close()\n",
    "        print(\"PosgreSql connection closed\")"
   ]
  },
  {
   "cell_type": "code",
   "execution_count": 7,
   "metadata": {},
   "outputs": [
    {
     "name": "stdout",
     "output_type": "stream",
     "text": [
      "   0                     1     2\n",
      "0  2  Godzilla vs KingKong  2021\n",
      "1  3         Mortal Kombat  2021\n",
      "2  4          The Matrix 4  2021\n",
      "3  5            The Croods  2013\n",
      "4  6         The Wolverine  2013\n",
      "5  7         The Wolverine  2013\n",
      "6  8         The Wolverine  2013\n",
      "7  9         The Wolverine  2013\n"
     ]
    }
   ],
   "source": [
    "    print(df)"
   ]
  },
  {
   "cell_type": "code",
   "execution_count": null,
   "metadata": {},
   "outputs": [],
   "source": []
  }
 ],
 "metadata": {
  "kernelspec": {
   "display_name": "Python 3",
   "language": "python",
   "name": "python3"
  },
  "language_info": {
   "codemirror_mode": {
    "name": "ipython",
    "version": 3
   },
   "file_extension": ".py",
   "mimetype": "text/x-python",
   "name": "python",
   "nbconvert_exporter": "python",
   "pygments_lexer": "ipython3",
   "version": "3.8.5"
  }
 },
 "nbformat": 4,
 "nbformat_minor": 4
}
